{
 "cells": [
  {
   "cell_type": "code",
   "execution_count": null,
   "metadata": {},
   "outputs": [],
   "source": [
    "%load_ext autoreload\n",
    "%autoreload 2\n",
    "%matplotlib inline"
   ]
  },
  {
   "cell_type": "markdown",
   "metadata": {},
   "source": [
    "for testing, this just initializes the dataloader, classifier, and patch model"
   ]
  },
  {
   "cell_type": "code",
   "execution_count": null,
   "metadata": {},
   "outputs": [],
   "source": [
    "import torch\n",
    "from train import Patch, CLIPClassifier, patch_loader\n",
    "\n",
    "loader = patch_loader(split='validation', batch_size=4, num_samples=100)\n",
    "batch = next(iter(loader))\n",
    "\n",
    "model = CLIPClassifier(deep=1024)\n",
    "checkpoint = torch.load('checkpoints/imnet_1k.pt', map_location='cpu')\n",
    "model.load_state_dict(checkpoint['model'])\n",
    "\n",
    "patch = Patch(model=model, target_label=965, patch_r=0.1)"
   ]
  },
  {
   "cell_type": "markdown",
   "metadata": {},
   "source": [
    "this gets the model predictions. it gets 3/4 correct here."
   ]
  },
  {
   "cell_type": "code",
   "execution_count": null,
   "metadata": {},
   "outputs": [],
   "source": [
    "logits = patch.forward(batch)\n",
    "print(torch.argmax(logits, dim=-1))"
   ]
  },
  {
   "cell_type": "markdown",
   "metadata": {},
   "source": [
    "if you show the images you should see that the classifier seems to do its job correctly"
   ]
  },
  {
   "cell_type": "code",
   "execution_count": null,
   "metadata": {},
   "outputs": [],
   "source": [
    "import matplotlib.pyplot as plt\n",
    "\n",
    "fig, axes = plt.subplots(2, 2, figsize=(8, 8))\n",
    "axes[0][0].imshow(batch['pixel_values'][0])\n",
    "axes[0][1].imshow(batch['pixel_values'][1])\n",
    "axes[1][0].imshow(batch['pixel_values'][2])\n",
    "axes[1][1].imshow(batch['pixel_values'][3])\n",
    "\n",
    "axes[0][0].axis('off')\n",
    "axes[0][1].axis('off')\n",
    "axes[1][0].axis('off')\n",
    "axes[1][1].axis('off')\n",
    "\n",
    "plt.tight_layout()\n",
    "plt.show()"
   ]
  },
  {
   "cell_type": "markdown",
   "metadata": {},
   "source": [
    "here you can see what the input images look like with the patch applied"
   ]
  },
  {
   "cell_type": "code",
   "execution_count": null,
   "metadata": {},
   "outputs": [],
   "source": [
    "with torch.no_grad():\n",
    "    patched = [patch._apply_patch(img) for img in batch['pixel_values']]\n",
    "\n",
    "fig, axes = plt.subplots(2, 2, figsize=(8, 8))\n",
    "axes[0][0].imshow(patched[0].permute(1, 2, 0))\n",
    "axes[0][1].imshow(patched[1].permute(1, 2, 0))\n",
    "axes[1][0].imshow(patched[2].permute(1, 2, 0))\n",
    "axes[1][1].imshow(patched[3].permute(1, 2, 0))\n",
    "\n",
    "axes[0][0].axis('off')\n",
    "axes[0][1].axis('off')\n",
    "axes[1][0].axis('off')\n",
    "axes[1][1].axis('off')\n",
    "\n",
    "plt.tight_layout()\n",
    "plt.show()"
   ]
  },
  {
   "cell_type": "markdown",
   "metadata": {},
   "source": [
    "## regressions"
   ]
  },
  {
   "cell_type": "code",
   "execution_count": null,
   "metadata": {},
   "outputs": [],
   "source": [
    "!python train.py --config=configs/patch/toy.yml --device=cpu"
   ]
  }
 ],
 "metadata": {
  "kernelspec": {
   "display_name": "avlm",
   "language": "python",
   "name": "python3"
  },
  "language_info": {
   "codemirror_mode": {
    "name": "ipython",
    "version": 3
   },
   "file_extension": ".py",
   "mimetype": "text/x-python",
   "name": "python",
   "nbconvert_exporter": "python",
   "pygments_lexer": "ipython3",
   "version": "3.10.15"
  }
 },
 "nbformat": 4,
 "nbformat_minor": 2
}
