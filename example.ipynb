{
 "cells": [
  {
   "cell_type": "code",
   "execution_count": null,
   "metadata": {},
   "outputs": [],
   "source": [
    "%load_ext autoreload\n",
    "%autoreload 2\n",
    "%matplotlib inline"
   ]
  },
  {
   "cell_type": "code",
   "execution_count": null,
   "metadata": {},
   "outputs": [],
   "source": [
    "import torch\n",
    "import matplotlib.pyplot as plt\n",
    "from utils import init_patch, transform, apply_patch\n",
    "\n",
    "B = 4\n",
    "im_dim = 224\n",
    "black_batch = torch.rand(B, im_dim, im_dim, 3)\n",
    "\n",
    "patch = init_patch(im_dim, 0.1)\n",
    "\n",
    "p_batch, mask = transform(black_batch, patch)\n",
    "\n",
    "fig, axes = plt.subplots(2, B, figsize=(15, 6))\n",
    "\n",
    "axes[0, 0].imshow(patch)\n",
    "axes[0, 0].set_title('original patch')\n",
    "axes[0, 0].axis('off')\n",
    "\n",
    "for i in range(1, B):\n",
    "    axes[0, i].axis('off')\n",
    "\n",
    "new_batch = apply_patch(black_batch, p_batch, mask)\n",
    "for i, im in enumerate(new_batch):\n",
    "    axes[1, i].imshow(im)"
   ]
  },
  {
   "cell_type": "code",
   "execution_count": null,
   "metadata": {},
   "outputs": [],
   "source": [
    "from transformers import LlavaForConditionalGeneration\n",
    "\n",
    "# this might take 20+ minutes to run the first time\n",
    "# llava = LlavaForConditionalGeneration.from_pretrained('llava-hf/llava-1.5-7b-hf')\n",
    "llava = LlavaForConditionalGeneration.from_pretrained('bczhou/tiny-llava-v1-hf')"
   ]
  },
  {
   "cell_type": "code",
   "execution_count": null,
   "metadata": {},
   "outputs": [],
   "source": [
    "from train import imnet_loader\n",
    "from tqdm import tqdm\n",
    "\n",
    "loader = imnet_loader(split='validation', batch_size=32)\n",
    "\n",
    "for batch in tqdm(loader):\n",
    "    continue"
   ]
  },
  {
   "cell_type": "markdown",
   "metadata": {},
   "source": [
    "## regressions"
   ]
  },
  {
   "cell_type": "code",
   "execution_count": null,
   "metadata": {},
   "outputs": [],
   "source": [
    "# train classifier\n",
    "!python train.py --config=configs/imnet_local.yml --device=cpu"
   ]
  }
 ],
 "metadata": {
  "kernelspec": {
   "display_name": "avlm",
   "language": "python",
   "name": "python3"
  },
  "language_info": {
   "codemirror_mode": {
    "name": "ipython",
    "version": 3
   },
   "file_extension": ".py",
   "mimetype": "text/x-python",
   "name": "python",
   "nbconvert_exporter": "python",
   "pygments_lexer": "ipython3",
   "version": "3.10.15"
  }
 },
 "nbformat": 4,
 "nbformat_minor": 2
}
