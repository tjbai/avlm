{
 "cells": [
  {
   "cell_type": "code",
   "execution_count": null,
   "metadata": {},
   "outputs": [],
   "source": [
    "%load_ext autoreload\n",
    "%autoreload 2\n",
    "%matplotlib inline"
   ]
  },
  {
   "cell_type": "markdown",
   "metadata": {},
   "source": [
    "for testing, this just initializes the dataloader, classifier, and patch model"
   ]
  },
  {
   "cell_type": "code",
   "execution_count": null,
   "metadata": {},
   "outputs": [],
   "source": [
    "import torch\n",
    "from train import patch_loader\n",
    "\n",
    "loader = patch_loader(split='validation', batch_size=4, num_samples=100, streaming=False)\n",
    "batch = next(iter(loader))"
   ]
  },
  {
   "cell_type": "code",
   "execution_count": null,
   "metadata": {},
   "outputs": [],
   "source": [
    "from train import CLIPClassifier\n",
    "\n",
    "model = CLIPClassifier(deep=1024)\n",
    "checkpoint = torch.load('checkpoints/imnet_1k.pt', map_location='cpu')\n",
    "model.load_state_dict(checkpoint['model'])"
   ]
  },
  {
   "cell_type": "code",
   "execution_count": null,
   "metadata": {},
   "outputs": [],
   "source": [
    "from attack import Patch, UniversalPerturbation\n",
    "\n",
    "patch = Patch(model=model, target_label=965, patch_r=0.2, init_size=1024)\n",
    "patch_pt = torch.load('checkpoints/attack_v5_unbounded_large_9999.pt', map_location='cpu')\n",
    "patch.load_params(patch_pt['params'])\n",
    "_ = patch.eval()\n",
    "\n",
    "perturbation = UniversalPerturbation(model=model, target_label=965, shape=(4, 3, 224, 224), epsilon=0.1)\n",
    "checkpoint = torch.load('checkpoints/up_checkpoint.pt', map_location='cpu')\n",
    "perturbation.load_params(checkpoint['params'])\n",
    "_ = perturbation.eval()"
   ]
  },
  {
   "cell_type": "markdown",
   "metadata": {},
   "source": [
    "this gets the model predictions. it gets 3/4 correct here."
   ]
  },
  {
   "cell_type": "code",
   "execution_count": null,
   "metadata": {},
   "outputs": [],
   "source": [
    "logits = patch.forward(batch)\n",
    "print(torch.argmax(logits, dim=-1))\n",
    "\n",
    "logits = perturbation.forward(batch)\n",
    "print(torch.argmax(logits, dim=-1))"
   ]
  },
  {
   "cell_type": "markdown",
   "metadata": {},
   "source": [
    "you can see the images we're attacking here"
   ]
  },
  {
   "cell_type": "code",
   "execution_count": null,
   "metadata": {},
   "outputs": [],
   "source": [
    "import matplotlib.pyplot as plt\n",
    "\n",
    "fig, axes = plt.subplots(2, 2, figsize=(8, 8))\n",
    "axes[0][0].imshow(batch['pixel_values'][0])\n",
    "axes[0][1].imshow(batch['pixel_values'][1])\n",
    "axes[1][0].imshow(batch['pixel_values'][2])\n",
    "axes[1][1].imshow(batch['pixel_values'][3])\n",
    "\n",
    "axes[0][0].axis('off')\n",
    "axes[0][1].axis('off')\n",
    "axes[1][0].axis('off')\n",
    "axes[1][1].axis('off')\n",
    "\n",
    "plt.tight_layout()\n",
    "plt.savefig('figures/baseline.png')"
   ]
  },
  {
   "cell_type": "markdown",
   "metadata": {},
   "source": [
    "here you can see what the input images look like with the patch applied"
   ]
  },
  {
   "cell_type": "code",
   "execution_count": null,
   "metadata": {},
   "outputs": [],
   "source": [
    "import matplotlib.pyplot as plt\n",
    "\n",
    "with torch.no_grad():\n",
    "    patched = patch._apply_patch(batch['pixel_values'])\n",
    "\n",
    "fig, axes = plt.subplots(2, 2, figsize=(8, 8))\n",
    "axes[0][0].imshow(patched[0])\n",
    "axes[0][1].imshow(patched[1])\n",
    "axes[1][0].imshow(patched[2])\n",
    "axes[1][1].imshow(patched[3])\n",
    "\n",
    "axes[0][0].axis('off')\n",
    "axes[0][1].axis('off')\n",
    "axes[1][0].axis('off')\n",
    "axes[1][1].axis('off')\n",
    "\n",
    "plt.tight_layout()\n",
    "plt.savefig('figures/patch_large.png')"
   ]
  },
  {
   "cell_type": "markdown",
   "metadata": {},
   "source": [
    "here you can wee what it looks like with the universal perturbation applied"
   ]
  },
  {
   "cell_type": "code",
   "execution_count": null,
   "metadata": {},
   "outputs": [],
   "source": [
    "import matplotlib.pyplot as plt\n",
    "\n",
    "with torch.no_grad():\n",
    "    perturbed = perturbation.apply_attack(batch['pixel_values'])\n",
    "\n",
    "fig, axes = plt.subplots(2, 2, figsize=(8, 8))\n",
    "axes[0][0].imshow(perturbed[0].permute(1, 2, 0))\n",
    "axes[0][1].imshow(perturbed[1].permute(1, 2, 0))\n",
    "axes[1][0].imshow(perturbed[2].permute(1, 2, 0))\n",
    "axes[1][1].imshow(perturbed[3].permute(1, 2, 0))\n",
    "\n",
    "axes[0][0].axis('off')\n",
    "axes[0][1].axis('off')\n",
    "axes[1][0].axis('off')\n",
    "axes[1][1].axis('off')\n",
    "\n",
    "plt.tight_layout()\n",
    "plt.savefig('figures/perturbed_weak.png')"
   ]
  },
  {
   "cell_type": "markdown",
   "metadata": {},
   "source": [
    "## regressions"
   ]
  },
  {
   "cell_type": "code",
   "execution_count": null,
   "metadata": {},
   "outputs": [],
   "source": [
    "!python train.py --config=configs/patch/toy.yml --device=cpu"
   ]
  },
  {
   "cell_type": "code",
   "execution_count": null,
   "metadata": {},
   "outputs": [],
   "source": [
    "!python train.py --config=configs/universal/perturbation_weak.yml --device=cpu"
   ]
  },
  {
   "cell_type": "code",
   "execution_count": null,
   "metadata": {},
   "outputs": [],
   "source": [
    "!python eval.py --config=configs/eval/perturbation_weak.yml --device=cpu"
   ]
  },
  {
   "cell_type": "markdown",
   "metadata": {},
   "source": [
    "## figuring out the universal perturbation stuff"
   ]
  },
  {
   "cell_type": "code",
   "execution_count": null,
   "metadata": {},
   "outputs": [],
   "source": [
    "import torch\n",
    "from attack import UniversalPerturbation\n",
    "\n",
    "up = UniversalPerturbation(None, None, shape=(4, 3, 224, 224))\n",
    "checkpoint = torch.load('checkpoints/up_checkpoint.pt', map_location='cpu')\n",
    "up.load_params(checkpoint['params'])"
   ]
  }
 ],
 "metadata": {
  "kernelspec": {
   "display_name": "avlm",
   "language": "python",
   "name": "python3"
  },
  "language_info": {
   "codemirror_mode": {
    "name": "ipython",
    "version": 3
   },
   "file_extension": ".py",
   "mimetype": "text/x-python",
   "name": "python",
   "nbconvert_exporter": "python",
   "pygments_lexer": "ipython3",
   "version": "3.10.15"
  }
 },
 "nbformat": 4,
 "nbformat_minor": 2
}
