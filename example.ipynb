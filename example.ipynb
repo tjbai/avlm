{
 "cells": [
  {
   "cell_type": "code",
   "execution_count": null,
   "metadata": {},
   "outputs": [],
   "source": [
    "%load_ext autoreload\n",
    "%autoreload 2\n",
    "%matplotlib inline"
   ]
  },
  {
   "cell_type": "code",
   "execution_count": null,
   "metadata": {},
   "outputs": [],
   "source": [
    "import torch\n",
    "import matplotlib.pyplot as plt\n",
    "from utils import init_patch, transform, apply_patch\n",
    "\n",
    "B = 4\n",
    "im_dim = 224\n",
    "black_batch = torch.rand(B, im_dim, im_dim, 3)\n",
    "\n",
    "patch = init_patch(im_dim, 0.1)\n",
    "\n",
    "p_batch, mask = transform(black_batch, patch)\n",
    "\n",
    "fig, axes = plt.subplots(2, B, figsize=(15, 6))\n",
    "\n",
    "axes[0, 0].imshow(patch)\n",
    "axes[0, 0].set_title('original patch')\n",
    "axes[0, 0].axis('off')\n",
    "\n",
    "for i in range(1, B):\n",
    "    axes[0, i].axis('off')\n",
    "\n",
    "new_batch = apply_patch(black_batch, p_batch, mask)\n",
    "for i, im in enumerate(new_batch):\n",
    "    axes[1, i].imshow(im)"
   ]
  },
  {
   "cell_type": "markdown",
   "metadata": {},
   "source": [
    "for testing, this just initializes the dataloader, classifier, and patch model"
   ]
  },
  {
   "cell_type": "code",
   "execution_count": null,
   "metadata": {},
   "outputs": [],
   "source": [
    "import torch\n",
    "from train import Patch, CLIPClassifier, patch_loader\n",
    "\n",
    "loader = patch_loader(split='validation', batch_size=4, num_samples=1000)\n",
    "batch = next(iter(loader))\n",
    "\n",
    "model = CLIPClassifier(deep=1024)\n",
    "checkpoint = torch.load('checkpoints/imnet_1k.pt', map_location='cpu')\n",
    "model.load_state_dict(checkpoint['model'])\n",
    "\n",
    "patch = Patch(model=model, target_label=965, patch_r=0.1)"
   ]
  },
  {
   "cell_type": "markdown",
   "metadata": {},
   "source": [
    "this gets the model predictions. with the right checkpoint 91=coucal and 268=mexican hairless"
   ]
  },
  {
   "cell_type": "code",
   "execution_count": null,
   "metadata": {},
   "outputs": [],
   "source": [
    "logits = patch.forward(batch)\n",
    "print(torch.argmax(logits, dim=-1))"
   ]
  },
  {
   "cell_type": "markdown",
   "metadata": {},
   "source": [
    "if you show the images you should see that the classifier seems to do its job correctly"
   ]
  },
  {
   "cell_type": "code",
   "execution_count": null,
   "metadata": {},
   "outputs": [],
   "source": [
    "import matplotlib.pyplot as plt\n",
    "\n",
    "fig, axes = plt.subplots(1, 2, figsize=(10, 5))\n",
    "axes[0].imshow(batch['pixel_values'][0])\n",
    "axes[1].imshow(batch['pixel_values'][1])\n",
    "axes[0].axis('off')\n",
    "axes[1].axis('off')\n",
    "plt.tight_layout()\n",
    "plt.show()"
   ]
  },
  {
   "cell_type": "markdown",
   "metadata": {},
   "source": [
    "here you can see what the input images look like with the patch applied"
   ]
  },
  {
   "cell_type": "code",
   "execution_count": null,
   "metadata": {},
   "outputs": [],
   "source": [
    "with torch.no_grad():\n",
    "    patched = [patch.apply_patch(img) for img in batch['pixel_values']]\n",
    "\n",
    "fig, axes = plt.subplots(1, 2, figsize=(10, 5))\n",
    "axes[0].imshow(patched[0].permute(1, 2, 0))\n",
    "axes[1].imshow(patched[1].permute(1, 2, 0))\n",
    "axes[0].axis('off')\n",
    "axes[1].axis('off')\n",
    "plt.tight_layout()\n",
    "plt.show()"
   ]
  },
  {
   "cell_type": "markdown",
   "metadata": {},
   "source": [
    "## regressions"
   ]
  },
  {
   "cell_type": "code",
   "execution_count": null,
   "metadata": {},
   "outputs": [],
   "source": [
    "!python train.py --config=configs/imnet_local.yml --device=cpu"
   ]
  },
  {
   "cell_type": "code",
   "execution_count": null,
   "metadata": {},
   "outputs": [],
   "source": [
    "!python train.py --config=configs/patch/toy.yml --device=cpu"
   ]
  }
 ],
 "metadata": {
  "kernelspec": {
   "display_name": "avlm",
   "language": "python",
   "name": "python3"
  },
  "language_info": {
   "codemirror_mode": {
    "name": "ipython",
    "version": 3
   },
   "file_extension": ".py",
   "mimetype": "text/x-python",
   "name": "python",
   "nbconvert_exporter": "python",
   "pygments_lexer": "ipython3",
   "version": "3.10.15"
  }
 },
 "nbformat": 4,
 "nbformat_minor": 2
}
