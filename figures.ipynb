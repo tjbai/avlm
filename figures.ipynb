{
 "cells": [
  {
   "cell_type": "markdown",
   "metadata": {},
   "source": [
    "# example apply attack"
   ]
  },
  {
   "cell_type": "code",
   "execution_count": null,
   "metadata": {},
   "outputs": [],
   "source": [
    "import torch\n",
    "from data import patch_loader\n",
    "\n",
    "loader = patch_loader(split='validation', batch_size=1)\n",
    "batch = next(iter(loader))"
   ]
  },
  {
   "cell_type": "code",
   "execution_count": null,
   "metadata": {},
   "outputs": [],
   "source": [
    "import matplotlib.pyplot as plt\n",
    "\n",
    "plt.imshow(batch['pixel_values'][0])\n",
    "plt.tight_layout()\n",
    "plt.axis('off')\n",
    "plt.savefig('figures/baseline.png')"
   ]
  },
  {
   "cell_type": "code",
   "execution_count": null,
   "metadata": {},
   "outputs": [],
   "source": [
    "import matplotlib.pyplot as plt\n",
    "from attack import Patch\n",
    "\n",
    "type = 'patch_large'\n",
    "\n",
    "attack = Patch(patch_r=0.2)\n",
    "attack.load_params(torch.load(f'checkpoints/{type}.pt', map_location='cpu')['params'])\n",
    "attack.eval()\n",
    "\n",
    "with torch.no_grad():\n",
    "    img = attack.apply_attack(batch['pixel_values'], normalize=False)\n",
    "    plt.imshow(img[0].permute(1, 2, 0))\n",
    "    plt.tight_layout()\n",
    "    plt.axis('off')\n",
    "    plt.savefig(f'figures/{type}.png')"
   ]
  },
  {
   "cell_type": "code",
   "execution_count": null,
   "metadata": {},
   "outputs": [],
   "source": [
    "from attack import UniversalPerturbation\n",
    "\n",
    "type = 'perturbation_strong'\n",
    "\n",
    "attack = UniversalPerturbation(None, None)\n",
    "attack.load_params(torch.load(f'checkpoints/{type}.pt', map_location='cpu')['params'])\n",
    "attack.eval()\n",
    "\n",
    "with torch.no_grad():\n",
    "    img = attack.apply_attack(batch['pixel_values'], normalize=False)\n",
    "    plt.imshow(img[0].permute(1, 2, 0))\n",
    "    plt.tight_layout()\n",
    "    plt.axis('off')\n",
    "    plt.savefig(f'figures/{type}.png')"
   ]
  },
  {
   "cell_type": "markdown",
   "metadata": {},
   "source": [
    "# corr"
   ]
  },
  {
   "cell_type": "code",
   "execution_count": null,
   "metadata": {},
   "outputs": [],
   "source": [
    "import matplotlib.pyplot as plt\n",
    "import numpy as np\n",
    "\n",
    "# Data\n",
    "patch_loss = np.array([0.522, 0.95])\n",
    "patch_burrito = np.array([1.0, 86.0])\n",
    "patch_ground = np.array([12.0, 7.0])\n",
    "patch_names = ['Small', 'Large']\n",
    "\n",
    "pert_loss = np.array([0.05, 0.82, 0.9])\n",
    "pert_burrito = np.array([1.0, 1.0, 0.0])\n",
    "pert_ground = np.array([22.0, 22.0, 26.0])\n",
    "pert_names = ['Weak', 'Medium', 'Strong']\n",
    "\n",
    "plt.style.use('seaborn-v0_8-paper')\n",
    "fig, (ax1, ax2) = plt.subplots(1, 2, figsize=(10, 4))\n",
    "\n",
    "ax1.plot(patch_loss, patch_burrito, 'o-', label='Patch', color='#2166ac', linewidth=2)\n",
    "ax1.plot(pert_loss, pert_burrito, 's-', label='Perturbation', color='#b2182b', linewidth=2)\n",
    "\n",
    "ax1.set_xlabel('Clasisifer Burrito Success Rate (%)')\n",
    "ax1.set_ylabel('Burrito Success Rate (%)')\n",
    "ax1.grid(True, linestyle='--', alpha=0.7)\n",
    "ax1.set_ylim(-5, 100)\n",
    "ax1.legend()\n",
    "\n",
    "# Plot 2: Ground Truth Success Rate\n",
    "ax2.plot(patch_loss, patch_ground, 'o-', label='Patch', color='#2166ac', linewidth=2)\n",
    "ax2.plot(pert_loss, pert_ground, 's-', label='Perturbation', color='#b2182b', linewidth=2)\n",
    "\n",
    "ax2.set_xlabel('Classifier Burrito Success Rate (%)')\n",
    "ax2.set_ylabel('Ground Truth Success Rate (%)')\n",
    "ax2.grid(True, linestyle='--', alpha=0.7)\n",
    "ax2.set_ylim(-5, 100)\n",
    "ax2.legend()\n",
    "\n",
    "plt.tight_layout()\n",
    "plt.savefig('figures/corr.png')"
   ]
  }
 ],
 "metadata": {
  "kernelspec": {
   "display_name": "avlm",
   "language": "python",
   "name": "python3"
  },
  "language_info": {
   "codemirror_mode": {
    "name": "ipython",
    "version": 3
   },
   "file_extension": ".py",
   "mimetype": "text/x-python",
   "name": "python",
   "nbconvert_exporter": "python",
   "pygments_lexer": "ipython3",
   "version": "3.10.15"
  }
 },
 "nbformat": 4,
 "nbformat_minor": 2
}
