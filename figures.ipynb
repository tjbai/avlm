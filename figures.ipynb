{
 "cells": [
  {
   "cell_type": "markdown",
   "metadata": {},
   "source": [
    "# example apply attack"
   ]
  },
  {
   "cell_type": "code",
   "execution_count": null,
   "metadata": {},
   "outputs": [],
   "source": [
    "import torch\n",
    "from data import patch_loader\n",
    "\n",
    "loader = patch_loader(split='validation', batch_size=1)\n",
    "batch = next(iter(loader))"
   ]
  },
  {
   "cell_type": "code",
   "execution_count": null,
   "metadata": {},
   "outputs": [],
   "source": [
    "import matplotlib.pyplot as plt\n",
    "\n",
    "plt.imshow(batch['pixel_values'][0])\n",
    "plt.tight_layout()\n",
    "plt.axis('off')\n",
    "plt.savefig('figures/baseline.png')"
   ]
  },
  {
   "cell_type": "code",
   "execution_count": null,
   "metadata": {},
   "outputs": [],
   "source": [
    "from attack import Patch\n",
    "\n",
    "type = 'patch_large'\n",
    "\n",
    "attack = Patch()\n",
    "attack.load_params(torch.load(f'checkpoints/{type}.pt', map_location='cpu')['params'])\n",
    "attack.eval()\n",
    "\n",
    "with torch.no_grad():\n",
    "    img = attack.apply_attack(batch['pixel_values'], normalize=False)\n",
    "    plt.imshow(img[0].permute(1, 2, 0))\n",
    "    plt.tight_layout()\n",
    "    plt.axis('off')\n",
    "    plt.savefig(f'figures/{type}.png')"
   ]
  },
  {
   "cell_type": "code",
   "execution_count": null,
   "metadata": {},
   "outputs": [],
   "source": [
    "from attack import Patch\n",
    "\n",
    "type = 'patch_large'\n",
    "\n",
    "attack = Patch()\n",
    "attack.load_params(torch.load(f'checkpoints/{type}.pt', map_location='cpu')['params'])\n",
    "attack.eval()\n",
    "\n",
    "with torch.no_grad():\n",
    "    img = attack.apply_attack(batch['pixel_values'], normalize=False)\n",
    "    plt.imshow(img[0].permute(1, 2, 0))\n",
    "    plt.tight_layout()\n",
    "    plt.axis('off')\n",
    "    plt.savefig(f'figures/{type}.png')"
   ]
  },
  {
   "cell_type": "code",
   "execution_count": null,
   "metadata": {},
   "outputs": [],
   "source": [
    "from attack import UniversalPerturbation\n",
    "\n",
    "type = 'perturbation_strong'\n",
    "\n",
    "attack = UniversalPerturbation(None, None)\n",
    "attack.load_params(torch.load(f'checkpoints/{type}.pt', map_location='cpu')['params'])\n",
    "attack.eval()\n",
    "\n",
    "with torch.no_grad():\n",
    "    img = attack.apply_attack(batch['pixel_values'], normalize=False)\n",
    "    plt.imshow(img[0].permute(1, 2, 0))\n",
    "    plt.tight_layout()\n",
    "    plt.axis('off')\n",
    "    plt.savefig(f'figures/{type}.png')"
   ]
  }
 ],
 "metadata": {
  "kernelspec": {
   "display_name": "avlm",
   "language": "python",
   "name": "python3"
  },
  "language_info": {
   "codemirror_mode": {
    "name": "ipython",
    "version": 3
   },
   "file_extension": ".py",
   "mimetype": "text/x-python",
   "name": "python",
   "nbconvert_exporter": "python",
   "pygments_lexer": "ipython3",
   "version": "3.10.15"
  }
 },
 "nbformat": 4,
 "nbformat_minor": 2
}
